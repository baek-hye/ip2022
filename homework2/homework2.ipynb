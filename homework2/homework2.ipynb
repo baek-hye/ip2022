{
 "cells": [
  {
   "cell_type": "code",
   "execution_count": 2,
   "metadata": {},
   "outputs": [],
   "source": [
    "import cv2\n",
    "import numpy as np\n",
    "from matplotlib import pyplot as plt"
   ]
  },
  {
   "cell_type": "code",
   "execution_count": 20,
   "metadata": {},
   "outputs": [],
   "source": [
    "cap = cv2.VideoCapture(\"tracking2.avi\")\n",
    "\n",
    "while(1):\n",
    "# Take each frame\n",
    "    ret, frame = cap.read()\n",
    "    if ret :\n",
    "# Convert BGR to HS\n",
    "        hsv = cv2.cvtColor(frame, cv2.COLOR_BGR2HSV)\n",
    "# define range of blue color in HSV\n",
    "        lower_yellow = np.array([20,100,100])\n",
    "        upper_yellow = np.array([80,255,255])\n",
    "# Threshold the HSV image to get only blue colors\n",
    "        mask = cv2.inRange(hsv, lower_yellow, upper_yellow)\n",
    "# Bitwise-AND mask and original image\n",
    "        res = cv2.bitwise_and(frame,frame, mask= mask)\n",
    "\n",
    "        cv2.imshow('frame',frame)\n",
    "        cv2.imshow('mask',mask)\n",
    "        cv2.imshow('res',res)        \n",
    "    else :\n",
    "        break\n",
    "    k = cv2.waitKey(5) & 0xFF\n",
    "    if k == 27:\n",
    "        break\n",
    "\n",
    "cv2.destroyAllWindows()\n"
   ]
  }
 ],
 "metadata": {
  "kernelspec": {
   "display_name": "Python 3.8.13 ('opencv')",
   "language": "python",
   "name": "python3"
  },
  "language_info": {
   "codemirror_mode": {
    "name": "ipython",
    "version": 3
   },
   "file_extension": ".py",
   "mimetype": "text/x-python",
   "name": "python",
   "nbconvert_exporter": "python",
   "pygments_lexer": "ipython3",
   "version": "3.8.13"
  },
  "orig_nbformat": 4,
  "vscode": {
   "interpreter": {
    "hash": "77ec9461475bd820f316b361c48414cc75a1424ba4493b26f2966131a454e4d4"
   }
  }
 },
 "nbformat": 4,
 "nbformat_minor": 2
}
