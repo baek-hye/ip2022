{
 "cells": [
  {
   "cell_type": "code",
   "execution_count": 2,
   "metadata": {},
   "outputs": [],
   "source": [
    "import numpy as np\n",
    "import cv2\n"
   ]
  },
  {
   "cell_type": "code",
   "execution_count": 3,
   "metadata": {},
   "outputs": [],
   "source": [
    "cap=cv2.VideoCapture(\"coin.mp4\")\n",
    "\n",
    "while(cap.read()) :\n",
    "     ref,frame = cap.read()\n",
    "     roi=frame[:1080,0:1920]\n",
    "\n",
    "     gray=cv2.cvtColor(frame,cv2.COLOR_BGR2GRAY)\n",
    "     gray_blur=cv2.GaussianBlur(gray,(15,15),0)\n",
    "     thresh=cv2.adaptiveThreshold(gray_blur,255,cv2.ADAPTIVE_THRESH_GAUSSIAN_C,cv2.THRESH_BINARY_INV,11,1)\n",
    "     kernel=np.ones((3,3),np.uint8)\n",
    "     closing=cv2.morphologyEx(thresh,cv2.MORPH_CLOSE,kernel,iterations=4)\n",
    "\n",
    "     result_img=closing.copy()\n",
    "     contours,hierachy=cv2.findContours(result_img,cv2.RETR_EXTERNAL,cv2.CHAIN_APPROX_SIMPLE)\n",
    "     counter=0\n",
    "     for cnt in contours:\n",
    "         area = cv2.contourArea(cnt)\n",
    "         if area<5000 or area > 35000:\n",
    "             continue\n",
    "         ellipse = cv2.fitEllipse(cnt)\n",
    "         cv2.ellipse(roi,ellipse,(0,255,0),2)\n",
    "         counter+=1\n",
    "    \n",
    "     cv2.putText(roi,str(counter),(10,100),cv2.FONT_HERSHEY_SIMPLEX,4,(255,0,0),2,cv2.LINE_AA)\n",
    "     cv2.imshow(\"Show\",roi)\n",
    "\n",
    "     if cv2.waitKey(1) & 0xFF==ord('q'):\n",
    "         break\n",
    "\n",
    "cap.release()\n",
    "cv2.destroyAllWindows()"
   ]
  }
 ],
 "metadata": {
  "kernelspec": {
   "display_name": "Python 3.8.13 ('opencv')",
   "language": "python",
   "name": "python3"
  },
  "language_info": {
   "codemirror_mode": {
    "name": "ipython",
    "version": 3
   },
   "file_extension": ".py",
   "mimetype": "text/x-python",
   "name": "python",
   "nbconvert_exporter": "python",
   "pygments_lexer": "ipython3",
   "version": "3.8.13"
  },
  "orig_nbformat": 4,
  "vscode": {
   "interpreter": {
    "hash": "77ec9461475bd820f316b361c48414cc75a1424ba4493b26f2966131a454e4d4"
   }
  }
 },
 "nbformat": 4,
 "nbformat_minor": 2
}
